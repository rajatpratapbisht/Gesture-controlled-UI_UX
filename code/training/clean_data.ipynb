{
 "cells": [
  {
   "cell_type": "code",
   "execution_count": null,
   "metadata": {},
   "outputs": [],
   "source": [
    "\"\"\"\n",
    "Clean the recorded data from generate_training_data.py file\n",
    "\n",
    "Requires:  'data/gesture_data.csv' file\n",
    "\n",
    "Author: Rajat Bisht\n",
    "version: 1.0\n",
    "\n",
    "\"\"\"\n",
    "import pandas as pd\n",
    "import numpy as np\n",
    "from sklearn.model_selection import train_test_split\n",
    "from sklearn.preprocessing import LabelEncoder\n",
    "import matplotlib.pyplot as plt\n",
    "\n"
   ]
  },
  {
   "cell_type": "code",
   "execution_count": 3,
   "metadata": {},
   "outputs": [],
   "source": [
    "# load the dataset\n",
    "file_path = \"../data/gesture_data.csv\"\n",
    "df = pd.read_csv(file_path)"
   ]
  },
  {
   "cell_type": "code",
   "execution_count": 4,
   "metadata": {},
   "outputs": [
    {
     "name": "stdout",
     "output_type": "stream",
     "text": [
      "+----------------------------------\n",
      "| Dataset shape: (4621, 61)\n",
      "Dataset columns: Index(['label', '0_x', '0_y', '0_z', '1_x', '1_y', '1_z', '2_x', '2_y', '2_z',\n",
      "       '3_x', '3_y', '3_z', '4_x', '4_y', '4_z', '5_x', '5_y', '5_z', '6_x',\n",
      "       '6_y', '6_z', '7_x', '7_y', '7_z', '8_x', '8_y', '8_z', '9_x', '9_y',\n",
      "       '9_z', '10_x', '10_y', '10_z', '11_x', '11_y', '11_z', '12_x', '12_y',\n",
      "       '12_z', '13_x', '13_y', '13_z', '14_x', '14_y', '14_z', '15_x', '15_y',\n",
      "       '15_z', '16_x', '16_y', '16_z', '17_x', '17_y', '17_z', '18_x', '18_y',\n",
      "       '18_z', '19_x', '19_y', '19_z'],\n",
      "      dtype='object')\n",
      "+----------------------------------\n"
     ]
    }
   ],
   "source": [
    "# display basic informastion about the dataset\n",
    "print(\"+----------------------------------\")\n",
    "print(f\"| Dataset shape: {df.shape}\")\n",
    "print(f\"Dataset columns: {df.columns}\")\n",
    "print(\"+----------------------------------\")"
   ]
  },
  {
   "cell_type": "code",
   "execution_count": 5,
   "metadata": {},
   "outputs": [],
   "source": [
    "# 1: handeling missing values (if any) by dropping them\n",
    "df.dropna(inplace=True)\n",
    "\n"
   ]
  },
  {
   "cell_type": "code",
   "execution_count": 6,
   "metadata": {},
   "outputs": [],
   "source": [
    "# 2: drop duplicates\n",
    "df.drop_duplicates(inplace=True)\n",
    "\n"
   ]
  },
  {
   "cell_type": "code",
   "execution_count": 7,
   "metadata": {},
   "outputs": [],
   "source": [
    "# 3: encode labels (if not numeric)\n",
    "label_enc = LabelEncoder()\n",
    "df['label'] = label_enc.fit_transform(df['label'])\n",
    "\n"
   ]
  },
  {
   "cell_type": "code",
   "execution_count": 8,
   "metadata": {},
   "outputs": [
    {
     "name": "stdout",
     "output_type": "stream",
     "text": [
      "(4621,)\n",
      "(4621, 60)\n"
     ]
    }
   ],
   "source": [
    "# 4: seperating features and labels\n",
    "y = df['label'].values\n",
    "X = df.drop(columns=['label']).values\n",
    "\n",
    "print(y.shape)\n",
    "print(X.shape)\n",
    "\n"
   ]
  },
  {
   "cell_type": "code",
   "execution_count": 9,
   "metadata": {},
   "outputs": [],
   "source": [
    "# 5: split data into training(70%) and test(30%)\n",
    "X_train, X_test, y_train, y_test = train_test_split(X, y, test_size=0.3, random_state=42, shuffle=True)\n",
    "\n"
   ]
  },
  {
   "cell_type": "code",
   "execution_count": 10,
   "metadata": {},
   "outputs": [],
   "source": [
    "# 6: Split testing data into evaluation(50% of test) and validation(50% of test)\n",
    "X_eval, X_val, y_eval, y_val = train_test_split(X_test, y_test, test_size=0.5, random_state=42, shuffle=True)\n"
   ]
  },
  {
   "cell_type": "code",
   "execution_count": 11,
   "metadata": {},
   "outputs": [],
   "source": [
    "# save the data into speprate files\n",
    "train_data_file = \"../data/train_gesture_data.csv\"\n",
    "eval_data_file = \"../data/eval_gesture_data.csv\"\n",
    "val_data_file = \"../data/val_gesture_data.csv\"\n",
    "\n",
    "# saving trainig data\n",
    "train_df = pd.DataFrame(X_train)\n",
    "train_df['label'] = y_train\n",
    "train_df.to_csv(train_data_file, index=False)\n",
    "\n",
    "# Save evaluation data\n",
    "eval_df = pd.DataFrame(X_eval)\n",
    "eval_df['label'] = y_eval\n",
    "eval_df.to_csv(eval_data_file, index=False)\n",
    "\n",
    "# Save validation data\n",
    "val_df = pd.DataFrame(X_val)\n",
    "val_df['label'] = y_val\n",
    "val_df.to_csv(val_data_file, index=False)\n"
   ]
  },
  {
   "cell_type": "code",
   "execution_count": 13,
   "metadata": {},
   "outputs": [
    {
     "name": "stdout",
     "output_type": "stream",
     "text": [
      "Training data saved to ../data/train_gesture_data.csv\n",
      "Evaluation data saved to ../data/eval_gesture_data.csv\n",
      "Validation data saved to ../data/val_gesture_data.csv\n",
      "Training set shape: (3234, 60)\n",
      "Evaluation set shape: (693, 60)\n",
      "Validation set shape: (694, 60)\n"
     ]
    }
   ],
   "source": [
    "# print data information\n",
    "print(f\"Training data saved to {train_data_file}\")\n",
    "print(f\"Evaluation data saved to {eval_data_file}\")\n",
    "print(f\"Validation data saved to {val_data_file}\")\n",
    "\n",
    "# Example output of shape after saving\n",
    "print(f\"Training set shape: {X_train.shape}\")\n",
    "print(f\"Evaluation set shape: {X_eval.shape}\")\n",
    "print(f\"Validation set shape: {X_val.shape}\")"
   ]
  },
  {
   "cell_type": "code",
   "execution_count": null,
   "metadata": {},
   "outputs": [],
   "source": []
  }
 ],
 "metadata": {
  "kernelspec": {
   "display_name": "mediapipe_env",
   "language": "python",
   "name": "python3"
  },
  "language_info": {
   "codemirror_mode": {
    "name": "ipython",
    "version": 3
   },
   "file_extension": ".py",
   "mimetype": "text/x-python",
   "name": "python",
   "nbconvert_exporter": "python",
   "pygments_lexer": "ipython3",
   "version": "3.10.14"
  }
 },
 "nbformat": 4,
 "nbformat_minor": 2
}

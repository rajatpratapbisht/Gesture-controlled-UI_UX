{
 "cells": [
  {
   "cell_type": "code",
   "execution_count": 17,
   "metadata": {},
   "outputs": [],
   "source": [
    "\"\"\"\n",
    "Clean the recorded data from generate_training_data.py file\n",
    "\n",
    "Requires:  'data/gesture_data.csv' file\n",
    "\n",
    "Author: Rajat Bisht\n",
    "version: 1.0\n",
    "\n",
    "\"\"\"\n",
    "import pandas as pd\n",
    "import numpy as np\n",
    "from sklearn.model_selection import train_test_split\n",
    "# from sklearn.preprocessing import LabelEncoder\n",
    "import matplotlib.pyplot as plt\n",
    "\n"
   ]
  },
  {
   "cell_type": "code",
   "execution_count": 56,
   "metadata": {},
   "outputs": [],
   "source": [
    "# load the dataset\n",
    "file_path = \"../data/gesture_data.csv\"\n",
    "df = pd.read_csv(file_path, index_col=False)"
   ]
  },
  {
   "cell_type": "code",
   "execution_count": 57,
   "metadata": {},
   "outputs": [
    {
     "name": "stdout",
     "output_type": "stream",
     "text": [
      "+----------------------------------\n",
      "| Dataset shape: (4621, 64)\n",
      "Dataset columns: Index(['label', '0_x', '0_y', '0_z', '1_x', '1_y', '1_z', '2_x', '2_y', '2_z',\n",
      "       '3_x', '3_y', '3_z', '4_x', '4_y', '4_z', '5_x', '5_y', '5_z', '6_x',\n",
      "       '6_y', '6_z', '7_x', '7_y', '7_z', '8_x', '8_y', '8_z', '9_x', '9_y',\n",
      "       '9_z', '10_x', '10_y', '10_z', '11_x', '11_y', '11_z', '12_x', '12_y',\n",
      "       '12_z', '13_x', '13_y', '13_z', '14_x', '14_y', '14_z', '15_x', '15_y',\n",
      "       '15_z', '16_x', '16_y', '16_z', '17_x', '17_y', '17_z', '18_x', '18_y',\n",
      "       '18_z', '19_x', '19_y', '19_z', '20_x', '20_y', '20_z'],\n",
      "      dtype='object')\n",
      "+----------------------------------\n"
     ]
    }
   ],
   "source": [
    "# display basic informastion about the dataset\n",
    "print(\"+----------------------------------\")\n",
    "print(f\"| Dataset shape: {df.shape}\")\n",
    "print(f\"Dataset columns: {df.columns}\")             # 21 landmarks x 3 coordinates = 63 + [label] = > 64 columns\n",
    "print(\"+----------------------------------\")"
   ]
  },
  {
   "cell_type": "code",
   "execution_count": 42,
   "metadata": {},
   "outputs": [],
   "source": [
    "# 1: handeling missing values (if any) by dropping them\n",
    "df.dropna(inplace=True)\n",
    "\n"
   ]
  },
  {
   "cell_type": "code",
   "execution_count": 43,
   "metadata": {},
   "outputs": [],
   "source": [
    "# 2: drop duplicates\n",
    "df.drop_duplicates(inplace=True)\n",
    "\n"
   ]
  },
  {
   "cell_type": "code",
   "execution_count": null,
   "metadata": {},
   "outputs": [],
   "source": [
    "# # 3: encode labels (if not numeric)\n",
    "# label_enc = LabelEncoder()\n",
    "# df['label'] = label_enc.fit_transform(df['label'])\n",
    "\n"
   ]
  },
  {
   "cell_type": "code",
   "execution_count": null,
   "metadata": {},
   "outputs": [
    {
     "name": "stdout",
     "output_type": "stream",
     "text": [
      "   label       0_x       0_y           0_z       1_x       1_y       1_z  \\\n",
      "0      0  0.696454  0.636997 -2.310000e-07  0.668111  0.614614 -0.007457   \n",
      "1      0  0.700438  0.638974 -2.410000e-07  0.671682  0.616348 -0.008217   \n",
      "2      0  0.702995  0.634602 -2.450000e-07  0.674380  0.614698 -0.008579   \n",
      "3      0  0.708186  0.628546 -2.520000e-07  0.679156  0.609977 -0.009174   \n",
      "4      0  0.712229  0.615178 -2.420000e-07  0.683351  0.594831 -0.007945   \n",
      "\n",
      "        2_x       2_y       2_z  ...      17_z      18_x      18_y      18_z  \\\n",
      "0  0.648974  0.566744 -0.010450  ... -0.012280  0.715679  0.516302 -0.020629   \n",
      "1  0.652554  0.569284 -0.011798  ... -0.012847  0.719245  0.517477 -0.022022   \n",
      "2  0.654442  0.565782 -0.012038  ... -0.013593  0.722781  0.512908 -0.023170   \n",
      "3  0.658345  0.555867 -0.011465  ... -0.009632  0.727873  0.507419 -0.018593   \n",
      "4  0.664153  0.545000 -0.010325  ... -0.010626  0.733713  0.497498 -0.020006   \n",
      "\n",
      "       19_x      19_y      19_z      20_x      20_y      20_z  \n",
      "0  0.710116  0.549886 -0.015453  0.709067  0.566674 -0.008810  \n",
      "1  0.713505  0.552352 -0.016673  0.712161  0.568673 -0.009696  \n",
      "2  0.717914  0.548386 -0.017926  0.716472  0.563997 -0.011115  \n",
      "3  0.722993  0.542977 -0.013378  0.722375  0.556745 -0.006620  \n",
      "4  0.727813  0.532383 -0.014933  0.726228  0.548970 -0.008234  \n",
      "\n",
      "[5 rows x 64 columns]\n"
     ]
    }
   ],
   "source": [
    "print(df.head())\n"
   ]
  },
  {
   "cell_type": "code",
   "execution_count": 54,
   "metadata": {},
   "outputs": [
    {
     "name": "stdout",
     "output_type": "stream",
     "text": [
      "count    4621.000000\n",
      "mean        2.584938\n",
      "std         2.179097\n",
      "min         0.000000\n",
      "25%         0.000000\n",
      "50%         3.000000\n",
      "75%         5.000000\n",
      "max         6.000000\n",
      "Name: label, dtype: float64\n"
     ]
    }
   ],
   "source": [
    "print(df['label'].describe())"
   ]
  },
  {
   "cell_type": "code",
   "execution_count": 45,
   "metadata": {},
   "outputs": [
    {
     "data": {
      "text/plain": [
       "label\n",
       "0    1367\n",
       "5     622\n",
       "4     593\n",
       "6     569\n",
       "3     543\n",
       "2     493\n",
       "1     434\n",
       "Name: count, dtype: int64"
      ]
     },
     "execution_count": 45,
     "metadata": {},
     "output_type": "execute_result"
    }
   ],
   "source": [
    "df['label'].value_counts()"
   ]
  },
  {
   "cell_type": "code",
   "execution_count": 58,
   "metadata": {},
   "outputs": [
    {
     "name": "stdout",
     "output_type": "stream",
     "text": [
      "(4621,)\n",
      "(4621, 63)\n"
     ]
    }
   ],
   "source": [
    "# 4: seperating features and labels\n",
    "y = df['label']\n",
    "X = df.drop(columns=['label'])\n",
    "\n",
    "print(y.shape)\n",
    "print(X.shape)\n",
    "\n"
   ]
  },
  {
   "cell_type": "code",
   "execution_count": 61,
   "metadata": {},
   "outputs": [
    {
     "data": {
      "text/plain": [
       "label\n",
       "0    1367\n",
       "5     622\n",
       "4     593\n",
       "6     569\n",
       "3     543\n",
       "2     493\n",
       "1     434\n",
       "Name: count, dtype: int64"
      ]
     },
     "execution_count": 61,
     "metadata": {},
     "output_type": "execute_result"
    }
   ],
   "source": [
    "y.value_counts()"
   ]
  },
  {
   "cell_type": "code",
   "execution_count": 59,
   "metadata": {},
   "outputs": [],
   "source": [
    "# 5: split data into training(70%) and test(30%)\n",
    "X_train, X_test, y_train, y_test = train_test_split(X, y, test_size=0.3, random_state=42, shuffle=True)\n",
    "\n"
   ]
  },
  {
   "cell_type": "code",
   "execution_count": 60,
   "metadata": {},
   "outputs": [
    {
     "data": {
      "text/plain": [
       "(3234, 63)"
      ]
     },
     "execution_count": 60,
     "metadata": {},
     "output_type": "execute_result"
    }
   ],
   "source": [
    "X_train.shape"
   ]
  },
  {
   "cell_type": "code",
   "execution_count": 62,
   "metadata": {},
   "outputs": [
    {
     "data": {
      "text/plain": [
       "label\n",
       "0    937\n",
       "4    449\n",
       "5    436\n",
       "6    392\n",
       "3    378\n",
       "2    344\n",
       "1    298\n",
       "Name: count, dtype: int64"
      ]
     },
     "execution_count": 62,
     "metadata": {},
     "output_type": "execute_result"
    }
   ],
   "source": [
    "y_train.value_counts()"
   ]
  },
  {
   "cell_type": "code",
   "execution_count": 63,
   "metadata": {},
   "outputs": [],
   "source": [
    "# 6: Split testing data into evaluation(50% of test) and validation(50% of test)\n",
    "X_eval, X_val, y_eval, y_val = train_test_split(X_test, y_test, test_size=0.5, random_state=42, shuffle=True)\n"
   ]
  },
  {
   "cell_type": "code",
   "execution_count": 64,
   "metadata": {},
   "outputs": [
    {
     "name": "stdout",
     "output_type": "stream",
     "text": [
      "x_eval.shape: (693, 63)\n"
     ]
    }
   ],
   "source": [
    "print(f\"x_eval.shape: {X_eval.shape}\")"
   ]
  },
  {
   "cell_type": "code",
   "execution_count": 65,
   "metadata": {},
   "outputs": [],
   "source": [
    "# save the data into speprate files\n",
    "train_data_file = \"../data/train_gesture_data.csv\"\n",
    "eval_data_file = \"../data/eval_gesture_data.csv\"\n",
    "val_data_file = \"../data/val_gesture_data.csv\"\n",
    "\n",
    "# saving trainig data\n",
    "train_df = pd.DataFrame(X_train)\n",
    "train_df['label'] = y_train\n",
    "train_df.to_csv(train_data_file, index=False)\n",
    "\n",
    "# Save evaluation data\n",
    "eval_df = pd.DataFrame(X_eval)\n",
    "eval_df['label'] = y_eval\n",
    "eval_df.to_csv(eval_data_file, index=False)\n",
    "\n",
    "# Save validation data\n",
    "val_df = pd.DataFrame(X_val)\n",
    "val_df['label'] = y_val\n",
    "val_df.to_csv(val_data_file, index=False)\n"
   ]
  },
  {
   "cell_type": "code",
   "execution_count": 66,
   "metadata": {},
   "outputs": [
    {
     "name": "stdout",
     "output_type": "stream",
     "text": [
      "Training data saved to ../data/train_gesture_data.csv\n",
      "Evaluation data saved to ../data/eval_gesture_data.csv\n",
      "Validation data saved to ../data/val_gesture_data.csv\n",
      "Training set shape: (3234, 63)\n",
      "Evaluation set shape: (693, 63)\n",
      "Validation set shape: (694, 63)\n"
     ]
    }
   ],
   "source": [
    "# print data information\n",
    "print(f\"Training data saved to {train_data_file}\")\n",
    "print(f\"Evaluation data saved to {eval_data_file}\")\n",
    "print(f\"Validation data saved to {val_data_file}\")\n",
    "\n",
    "# Example output of shape after saving\n",
    "print(f\"Training set shape: {X_train.shape}\")\n",
    "print(f\"Evaluation set shape: {X_eval.shape}\")\n",
    "print(f\"Validation set shape: {X_val.shape}\")"
   ]
  },
  {
   "cell_type": "code",
   "execution_count": null,
   "metadata": {},
   "outputs": [],
   "source": []
  }
 ],
 "metadata": {
  "kernelspec": {
   "display_name": "mediapipe_env",
   "language": "python",
   "name": "python3"
  },
  "language_info": {
   "codemirror_mode": {
    "name": "ipython",
    "version": 3
   },
   "file_extension": ".py",
   "mimetype": "text/x-python",
   "name": "python",
   "nbconvert_exporter": "python",
   "pygments_lexer": "ipython3",
   "version": "3.10.14"
  }
 },
 "nbformat": 4,
 "nbformat_minor": 2
}
